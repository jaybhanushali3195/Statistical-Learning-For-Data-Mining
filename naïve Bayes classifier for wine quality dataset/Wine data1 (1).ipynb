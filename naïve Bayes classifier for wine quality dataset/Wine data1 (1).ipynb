{
 "cells": [
  {
   "cell_type": "code",
   "execution_count": 43,
   "metadata": {},
   "outputs": [],
   "source": [
    "import pandas as pd\n",
    "import numpy as np\n",
    "import matplotlib.pyplot as plt\n",
    "from sklearn import datasets\n",
    "from sklearn.naive_bayes import GaussianNB\n",
    "from sklearn.neural_network import MLPClassifier\n",
    "from sklearn import metrics\n",
    "from sklearn.metrics import accuracy_score\n",
    "from pandas_ml import ConfusionMatrix\n",
    "from sklearn import model_selection\n",
    "actuals=[]\n",
    "probs=[]\n",
    "hats=[]"
   ]
  },
  {
   "cell_type": "code",
   "execution_count": 44,
   "metadata": {},
   "outputs": [],
   "source": [
    "Data = pd.read_csv('winequality-red.csv')"
   ]
  },
  {
   "cell_type": "code",
   "execution_count": 45,
   "metadata": {},
   "outputs": [],
   "source": [
    "Xset, Yset = Data.iloc[:,:-1], Data.iloc[:, -1]"
   ]
  },
  {
   "cell_type": "code",
   "execution_count": 46,
   "metadata": {},
   "outputs": [
    {
     "data": {
      "text/plain": [
       "GaussianNB(priors=None)"
      ]
     },
     "execution_count": 46,
     "metadata": {},
     "output_type": "execute_result"
    }
   ],
   "source": [
    "from sklearn.model_selection import train_test_split\n",
    "Xset_train, Xset_test, Yset_train, Yset_test = train_test_split(Xset, Yset, test_size=0.30, random_state=42)\n",
    "modelnow = GaussianNB()\n",
    "modelnow.fit(Xset,Yset)"
   ]
  },
  {
   "cell_type": "code",
   "execution_count": 47,
   "metadata": {},
   "outputs": [
    {
     "name": "stdout",
     "output_type": "stream",
     "text": [
      "[5 5 5 ... 6 5 6]\n"
     ]
    }
   ],
   "source": [
    "#help(GaussianNB(priors=None))\n",
    "foldhats = modelnow.predict(Xset)\n",
    "print(foldhats)"
   ]
  },
  {
   "cell_type": "code",
   "execution_count": 48,
   "metadata": {},
   "outputs": [],
   "source": [
    "#print (\"Crossvalidation Error\")\n",
    "#print (\"CVerror = \", metrics.accuracy_score(actuals,hats))\n",
    "#print (metrics.classification_report(actuals, hats))"
   ]
  },
  {
   "cell_type": "code",
   "execution_count": 49,
   "metadata": {},
   "outputs": [
    {
     "name": "stdout",
     "output_type": "stream",
     "text": [
      "[0.07310912 0.02355739 0.02618504 ... 0.00640836 0.01824814 0.00299363]\n"
     ]
    }
   ],
   "source": [
    "foldprobs = modelnow.predict_proba(Xset)[:,1]\n",
    "print(foldprobs)\n"
   ]
  },
  {
   "cell_type": "code",
   "execution_count": 50,
   "metadata": {},
   "outputs": [
    {
     "name": "stdout",
     "output_type": "stream",
     "text": [
      "[5. 5. 5. ... 6. 5. 6.]\n"
     ]
    }
   ],
   "source": [
    "actuals = np.append(actuals, Yset)\n",
    "print(actuals)"
   ]
  },
  {
   "cell_type": "code",
   "execution_count": 71,
   "metadata": {},
   "outputs": [
    {
     "name": "stdout",
     "output_type": "stream",
     "text": [
      "Generalization Error  =  0.5647279549718575\n"
     ]
    }
   ],
   "source": [
    "print(\"Generalization Error  = \" , accuracy_score(actuals, foldhats))\n"
   ]
  },
  {
   "cell_type": "code",
   "execution_count": 54,
   "metadata": {},
   "outputs": [],
   "source": [
    "from sklearn.model_selection import train_test_split\n",
    "Xset_train, Xset_test, Yset_train, Yset_test = train_test_split(Xset, Yset, test_size=0.20, random_state=42)\n"
   ]
  },
  {
   "cell_type": "code",
   "execution_count": 55,
   "metadata": {},
   "outputs": [
    {
     "data": {
      "text/plain": [
       "GaussianNB(priors=None)"
      ]
     },
     "execution_count": 55,
     "metadata": {},
     "output_type": "execute_result"
    }
   ],
   "source": [
    "modelnow1 = GaussianNB()\n",
    "modelnow1.fit(Xset_train,Yset_train)"
   ]
  },
  {
   "cell_type": "code",
   "execution_count": 57,
   "metadata": {},
   "outputs": [
    {
     "name": "stdout",
     "output_type": "stream",
     "text": [
      "[5 5 6 5 6 5 5 5 6 6 7 5 6 5 5 7 5 6 7 5 5 5 6 6 5 6 7 6 5 7 5 6 6 5 5 5 7\n",
      " 6 6 6 6 5 7 5 6 6 7 6 5 6 5 4 6 6 5 5 6 6 6 5 5 6 6 5 7 6 7 5 7 5 7 5 6 6\n",
      " 6 5 7 5 6 7 6 7 5 6 6 7 5 6 7 5 6 5 6 7 5 6 5 6 5 5 5 5 6 6 5 6 6 5 6 5 8\n",
      " 5 5 5 6 7 6 6 5 6 6 5 6 5 5 5 6 6 6 6 6 5 5 7 6 5 5 5 5 6 7 6 6 6 6 5 6 5\n",
      " 6 5 6 6 5 6 6 6 5 6 5 6 7 5 6 5 5 6 5 5 5 5 5 5 7 5 5 6 7 5 5 4 5 7 5 7 5\n",
      " 7 4 6 7 5 5 7 6 7 6 5 5 5 6 6 5 5 6 5 7 6 5 6 6 7 6 5 6 7 7 6 4 5 6 5 5 7\n",
      " 7 6 4 5 5 7 5 6 5 5 7 6 7 6 5 6 5 5 6 5 6 7 4 6 6 5 7 5 6 6 5 5 3 5 5 6 6\n",
      " 8 7 6 5 7 6 7 5 5 7 7 5 6 5 5 6 6 5 7 7 5 7 5 5 5 5 6 5 6 5 4 5 8 8 5 5 7\n",
      " 5 7 6 7 6 5 6 5 5 5 6 6 6 7 6 6 5 6 5 6 5 5 6 5]\n"
     ]
    }
   ],
   "source": [
    "foldhats1 = modelnow.predict(Xset_test)\n",
    "print(foldhats1)"
   ]
  },
  {
   "cell_type": "code",
   "execution_count": 59,
   "metadata": {},
   "outputs": [
    {
     "name": "stdout",
     "output_type": "stream",
     "text": [
      "[6. 5. 6. 5. 6. 5. 5. 5. 5. 6. 7. 3. 5. 5. 6. 7. 5. 7. 8. 5. 5. 6. 5. 6.\n",
      " 6. 6. 7. 6. 5. 6. 5. 5. 6. 5. 6. 5. 7. 5. 4. 6. 5. 5. 7. 5. 5. 6. 7. 6.\n",
      " 5. 6. 5. 5. 5. 7. 6. 6. 6. 5. 5. 5. 5. 7. 5. 6. 6. 5. 6. 5. 6. 5. 6. 4.\n",
      " 6. 6. 6. 5. 8. 5. 6. 6. 5. 6. 5. 6. 6. 7. 5. 6. 7. 4. 7. 6. 5. 5. 5. 6.\n",
      " 5. 6. 5. 6. 5. 5. 5. 7. 6. 7. 6. 5. 6. 5. 8. 5. 6. 5. 6. 7. 6. 6. 5. 6.\n",
      " 6. 6. 6. 6. 6. 6. 7. 6. 5. 5. 6. 5. 5. 5. 6. 5. 5. 5. 5. 6. 7. 6. 8. 5.\n",
      " 5. 5. 6. 6. 6. 5. 6. 7. 6. 5. 6. 5. 5. 6. 6. 6. 7. 5. 7. 5. 5. 5. 6. 6.\n",
      " 5. 5. 6. 5. 7. 6. 7. 6. 6. 5. 5. 6. 4. 6. 5. 7. 5. 5. 4. 5. 7. 6. 5. 6.\n",
      " 6. 7. 6. 5. 5. 6. 5. 7. 5. 6. 6. 5. 7. 5. 5. 5. 6. 7. 7. 5. 5. 6. 6. 7.\n",
      " 6. 5. 6. 6. 6. 6. 6. 7. 4. 5. 5. 7. 5. 5. 5. 5. 6. 6. 5. 7. 5. 6. 6. 6.\n",
      " 5. 4. 6. 7. 6. 7. 5. 6. 6. 5. 5. 6. 5. 6. 4. 5. 6. 6. 5. 6. 6. 5. 5. 6.\n",
      " 7. 7. 6. 5. 6. 6. 5. 6. 5. 6. 5. 5. 5. 6. 6. 6. 7. 5. 5. 6. 5. 7. 5. 6.\n",
      " 4. 6. 6. 8. 6. 5. 5. 6. 5. 7. 6. 6. 5. 5. 7. 6. 6. 5. 6. 6. 5. 7. 6. 6.\n",
      " 6. 6. 5. 6. 5. 5. 6. 4.]\n"
     ]
    }
   ],
   "source": [
    "actuals1=[]\n",
    "actuals1 = np.append(actuals1,Yset_test)\n",
    "print(actuals1)"
   ]
  },
  {
   "cell_type": "code",
   "execution_count": 70,
   "metadata": {},
   "outputs": [
    {
     "name": "stdout",
     "output_type": "stream",
     "text": [
      "Generalization Error  =  0.55\n"
     ]
    }
   ],
   "source": [
    "print(\"Generalization Error  = \" , accuracy_score(actuals1, foldhats1))\n"
   ]
  },
  {
   "cell_type": "code",
   "execution_count": 73,
   "metadata": {},
   "outputs": [
    {
     "ename": "KeyError",
     "evalue": "'[   0    1    3 ... 1596 1597 1598] not in index'",
     "output_type": "error",
     "traceback": [
      "\u001b[1;31m---------------------------------------------------------------------------\u001b[0m",
      "\u001b[1;31mKeyError\u001b[0m                                  Traceback (most recent call last)",
      "\u001b[1;32m<ipython-input-73-861c692d2fad>\u001b[0m in \u001b[0;36m<module>\u001b[1;34m()\u001b[0m\n\u001b[0;32m      7\u001b[0m     \u001b[1;31m#print('train: %s, test: %s' % (train, test))\u001b[0m\u001b[1;33m\u001b[0m\u001b[1;33m\u001b[0m\u001b[0m\n\u001b[0;32m      8\u001b[0m     \u001b[1;31m# Train classifier on training data, predict test data\u001b[0m\u001b[1;33m\u001b[0m\u001b[1;33m\u001b[0m\u001b[0m\n\u001b[1;32m----> 9\u001b[1;33m     \u001b[0mmodelnow\u001b[0m\u001b[1;33m.\u001b[0m\u001b[0mfit\u001b[0m\u001b[1;33m(\u001b[0m\u001b[0mXset\u001b[0m\u001b[1;33m[\u001b[0m\u001b[0mtrain\u001b[0m\u001b[1;33m]\u001b[0m\u001b[1;33m,\u001b[0m \u001b[0mYset\u001b[0m\u001b[1;33m[\u001b[0m\u001b[0mtrain\u001b[0m\u001b[1;33m]\u001b[0m\u001b[1;33m)\u001b[0m\u001b[1;33m\u001b[0m\u001b[0m\n\u001b[0m\u001b[0;32m     10\u001b[0m \u001b[1;33m\u001b[0m\u001b[0m\n",
      "\u001b[1;32m~\\Anaconda3\\lib\\site-packages\\pandas\\core\\frame.py\u001b[0m in \u001b[0;36m__getitem__\u001b[1;34m(self, key)\u001b[0m\n\u001b[0;32m   2131\u001b[0m         \u001b[1;32mif\u001b[0m \u001b[0misinstance\u001b[0m\u001b[1;33m(\u001b[0m\u001b[0mkey\u001b[0m\u001b[1;33m,\u001b[0m \u001b[1;33m(\u001b[0m\u001b[0mSeries\u001b[0m\u001b[1;33m,\u001b[0m \u001b[0mnp\u001b[0m\u001b[1;33m.\u001b[0m\u001b[0mndarray\u001b[0m\u001b[1;33m,\u001b[0m \u001b[0mIndex\u001b[0m\u001b[1;33m,\u001b[0m \u001b[0mlist\u001b[0m\u001b[1;33m)\u001b[0m\u001b[1;33m)\u001b[0m\u001b[1;33m:\u001b[0m\u001b[1;33m\u001b[0m\u001b[0m\n\u001b[0;32m   2132\u001b[0m             \u001b[1;31m# either boolean or fancy integer index\u001b[0m\u001b[1;33m\u001b[0m\u001b[1;33m\u001b[0m\u001b[0m\n\u001b[1;32m-> 2133\u001b[1;33m             \u001b[1;32mreturn\u001b[0m \u001b[0mself\u001b[0m\u001b[1;33m.\u001b[0m\u001b[0m_getitem_array\u001b[0m\u001b[1;33m(\u001b[0m\u001b[0mkey\u001b[0m\u001b[1;33m)\u001b[0m\u001b[1;33m\u001b[0m\u001b[0m\n\u001b[0m\u001b[0;32m   2134\u001b[0m         \u001b[1;32melif\u001b[0m \u001b[0misinstance\u001b[0m\u001b[1;33m(\u001b[0m\u001b[0mkey\u001b[0m\u001b[1;33m,\u001b[0m \u001b[0mDataFrame\u001b[0m\u001b[1;33m)\u001b[0m\u001b[1;33m:\u001b[0m\u001b[1;33m\u001b[0m\u001b[0m\n\u001b[0;32m   2135\u001b[0m             \u001b[1;32mreturn\u001b[0m \u001b[0mself\u001b[0m\u001b[1;33m.\u001b[0m\u001b[0m_getitem_frame\u001b[0m\u001b[1;33m(\u001b[0m\u001b[0mkey\u001b[0m\u001b[1;33m)\u001b[0m\u001b[1;33m\u001b[0m\u001b[0m\n",
      "\u001b[1;32m~\\Anaconda3\\lib\\site-packages\\pandas\\core\\frame.py\u001b[0m in \u001b[0;36m_getitem_array\u001b[1;34m(self, key)\u001b[0m\n\u001b[0;32m   2175\u001b[0m             \u001b[1;32mreturn\u001b[0m \u001b[0mself\u001b[0m\u001b[1;33m.\u001b[0m\u001b[0m_take\u001b[0m\u001b[1;33m(\u001b[0m\u001b[0mindexer\u001b[0m\u001b[1;33m,\u001b[0m \u001b[0maxis\u001b[0m\u001b[1;33m=\u001b[0m\u001b[1;36m0\u001b[0m\u001b[1;33m,\u001b[0m \u001b[0mconvert\u001b[0m\u001b[1;33m=\u001b[0m\u001b[1;32mFalse\u001b[0m\u001b[1;33m)\u001b[0m\u001b[1;33m\u001b[0m\u001b[0m\n\u001b[0;32m   2176\u001b[0m         \u001b[1;32melse\u001b[0m\u001b[1;33m:\u001b[0m\u001b[1;33m\u001b[0m\u001b[0m\n\u001b[1;32m-> 2177\u001b[1;33m             \u001b[0mindexer\u001b[0m \u001b[1;33m=\u001b[0m \u001b[0mself\u001b[0m\u001b[1;33m.\u001b[0m\u001b[0mloc\u001b[0m\u001b[1;33m.\u001b[0m\u001b[0m_convert_to_indexer\u001b[0m\u001b[1;33m(\u001b[0m\u001b[0mkey\u001b[0m\u001b[1;33m,\u001b[0m \u001b[0maxis\u001b[0m\u001b[1;33m=\u001b[0m\u001b[1;36m1\u001b[0m\u001b[1;33m)\u001b[0m\u001b[1;33m\u001b[0m\u001b[0m\n\u001b[0m\u001b[0;32m   2178\u001b[0m             \u001b[1;32mreturn\u001b[0m \u001b[0mself\u001b[0m\u001b[1;33m.\u001b[0m\u001b[0m_take\u001b[0m\u001b[1;33m(\u001b[0m\u001b[0mindexer\u001b[0m\u001b[1;33m,\u001b[0m \u001b[0maxis\u001b[0m\u001b[1;33m=\u001b[0m\u001b[1;36m1\u001b[0m\u001b[1;33m,\u001b[0m \u001b[0mconvert\u001b[0m\u001b[1;33m=\u001b[0m\u001b[1;32mTrue\u001b[0m\u001b[1;33m)\u001b[0m\u001b[1;33m\u001b[0m\u001b[0m\n\u001b[0;32m   2179\u001b[0m \u001b[1;33m\u001b[0m\u001b[0m\n",
      "\u001b[1;32m~\\Anaconda3\\lib\\site-packages\\pandas\\core\\indexing.py\u001b[0m in \u001b[0;36m_convert_to_indexer\u001b[1;34m(self, obj, axis, is_setter)\u001b[0m\n\u001b[0;32m   1267\u001b[0m                 \u001b[1;32mif\u001b[0m \u001b[0mmask\u001b[0m\u001b[1;33m.\u001b[0m\u001b[0many\u001b[0m\u001b[1;33m(\u001b[0m\u001b[1;33m)\u001b[0m\u001b[1;33m:\u001b[0m\u001b[1;33m\u001b[0m\u001b[0m\n\u001b[0;32m   1268\u001b[0m                     raise KeyError('{mask} not in index'\n\u001b[1;32m-> 1269\u001b[1;33m                                    .format(mask=objarr[mask]))\n\u001b[0m\u001b[0;32m   1270\u001b[0m \u001b[1;33m\u001b[0m\u001b[0m\n\u001b[0;32m   1271\u001b[0m                 \u001b[1;32mreturn\u001b[0m \u001b[0m_values_from_object\u001b[0m\u001b[1;33m(\u001b[0m\u001b[0mindexer\u001b[0m\u001b[1;33m)\u001b[0m\u001b[1;33m\u001b[0m\u001b[0m\n",
      "\u001b[1;31mKeyError\u001b[0m: '[   0    1    3 ... 1596 1597 1598] not in index'"
     ]
    }
   ],
   "source": [
    "actuals2 = []\n",
    "probs2 = []\n",
    "hats2 = []\n",
    "seed = 719\n",
    "kfold = model_selection.KFold(n_splits=5, shuffle=True, random_state=seed)\n",
    "for train, test in kfold.split(Xset, Yset):\n",
    "    #print('train: %s, test: %s' % (train, test))\n",
    "    # Train classifier on training data, predict test data\n",
    "    modelnow.fit(Xset[train], Yset[train])foldhats2 = modelnow.predict(Xset[test])\n",
    "    foldprobs2 = modelnow.predict_proba(Xset[test])[:,1] # Class probability estimates for ROC curve\n",
    "    actuals2 = np.append(actuals2, Yset[test]) #Combine targets, then probs, and then predictions from each fold\n",
    "    probs2 = np.append(probs2, foldprobs2)\n",
    "    hats2 = np.append(hats2, foldhats2)\n",
    "    "
   ]
  },
  {
   "cell_type": "code",
   "execution_count": null,
   "metadata": {},
   "outputs": [],
   "source": []
  }
 ],
 "metadata": {
  "kernelspec": {
   "display_name": "Python 3",
   "language": "python",
   "name": "python3"
  },
  "language_info": {
   "codemirror_mode": {
    "name": "ipython",
    "version": 3
   },
   "file_extension": ".py",
   "mimetype": "text/x-python",
   "name": "python",
   "nbconvert_exporter": "python",
   "pygments_lexer": "ipython3",
   "version": "3.6.4"
  }
 },
 "nbformat": 4,
 "nbformat_minor": 2
}
